{
 "cells": [
  {
   "cell_type": "code",
   "execution_count": 96,
   "id": "fcccde4e",
   "metadata": {},
   "outputs": [],
   "source": [
    "import pymongo\n",
    "from pymongo import MongoClient"
   ]
  },
  {
   "cell_type": "code",
   "execution_count": 97,
   "id": "cee89383",
   "metadata": {},
   "outputs": [],
   "source": [
    "client= MongoClient('mongodb://localhost:27017/')"
   ]
  },
  {
   "cell_type": "code",
   "execution_count": 98,
   "id": "cb195d15",
   "metadata": {},
   "outputs": [],
   "source": [
    "db=client['directory']"
   ]
  },
  {
   "cell_type": "code",
   "execution_count": 99,
   "id": "ec4ba90d",
   "metadata": {},
   "outputs": [],
   "source": [
    "data=db['data']"
   ]
  },
  {
   "cell_type": "code",
   "execution_count": 100,
   "id": "e946674b",
   "metadata": {},
   "outputs": [],
   "source": [
    "record=[\n",
    "    {'Name':'Rakesh','Phoneno':123456789,'Place':'Trichy'},\n",
    "    {'Name':'Anbu','Phoneno':123456789,'Place':'chennai'}\n",
    "]"
   ]
  },
  {
   "cell_type": "code",
   "execution_count": 101,
   "id": "4ec3432a",
   "metadata": {},
   "outputs": [
    {
     "data": {
      "text/plain": [
       "<pymongo.results.InsertManyResult at 0x1bd07d5b790>"
      ]
     },
     "execution_count": 101,
     "metadata": {},
     "output_type": "execute_result"
    }
   ],
   "source": [
    "data.insert_many(record)"
   ]
  },
  {
   "cell_type": "code",
   "execution_count": 102,
   "id": "cb8079b8",
   "metadata": {},
   "outputs": [
    {
     "name": "stdout",
     "output_type": "stream",
     "text": [
      "{'_id': ObjectId('63668e504a2a0d48894b641a'), 'Name': 'Anbu', 'Phoneno': 123456789, 'Place': 'chennai'}\n"
     ]
    }
   ],
   "source": [
    "for record in data.find({'Name':'Anbu'}):\n",
    "    print(record)\n"
   ]
  },
  {
   "cell_type": "code",
   "execution_count": 103,
   "id": "ce7869a4",
   "metadata": {},
   "outputs": [],
   "source": [
    "my_query= {'Name':'Anbu'}\n",
    "new={'$set':{'Name': 'Anbazhaagan'}}"
   ]
  },
  {
   "cell_type": "code",
   "execution_count": 104,
   "id": "5a9c64b7",
   "metadata": {},
   "outputs": [
    {
     "data": {
      "text/plain": [
       "<pymongo.results.UpdateResult at 0x1bd07d5b070>"
      ]
     },
     "execution_count": 104,
     "metadata": {},
     "output_type": "execute_result"
    }
   ],
   "source": [
    "data.update_one(\n",
    "    {'Name':'Anbu'},\n",
    "    {'$set':{'Place':'ayapakkam'},\n",
    "     '$currentDate':{'lastModified':True}})"
   ]
  },
  {
   "cell_type": "code",
   "execution_count": 105,
   "id": "ff69e9ea",
   "metadata": {},
   "outputs": [
    {
     "name": "stdout",
     "output_type": "stream",
     "text": [
      "{'_id': ObjectId('63666a984a2a0d48894b6416'), 'Name': 'Rakesh', 'Phoneno': 123456789, 'Place': 'Trichy'}\n",
      "{'_id': ObjectId('63666a984a2a0d48894b6417'), 'Name': 'Anbazhaagan', 'Phoneno': 123456789, 'Place': 'ayapakkam', 'lastModified': datetime.datetime(2022, 11, 5, 16, 17, 6, 16000)}\n",
      "{'_id': ObjectId('63668e504a2a0d48894b6419'), 'Name': 'Rakesh', 'Phoneno': 123456789, 'Place': 'Trichy'}\n",
      "{'_id': ObjectId('63668e504a2a0d48894b641a'), 'Name': 'Anbu', 'Phoneno': 123456789, 'Place': 'ayapakkam', 'lastModified': datetime.datetime(2022, 11, 5, 16, 24, 48, 678000)}\n"
     ]
    }
   ],
   "source": [
    "for record in data.find():\n",
    "    print(record)"
   ]
  },
  {
   "cell_type": "code",
   "execution_count": 106,
   "id": "3b8a65b1",
   "metadata": {},
   "outputs": [
    {
     "data": {
      "text/plain": [
       "<pymongo.results.UpdateResult at 0x1bd07d58fa0>"
      ]
     },
     "execution_count": 106,
     "metadata": {},
     "output_type": "execute_result"
    }
   ],
   "source": [
    "data.update_one(my_query,new)"
   ]
  },
  {
   "cell_type": "code",
   "execution_count": 107,
   "id": "96b8acdc",
   "metadata": {},
   "outputs": [
    {
     "name": "stdout",
     "output_type": "stream",
     "text": [
      "{'_id': ObjectId('63666a984a2a0d48894b6416'), 'Name': 'Rakesh', 'Phoneno': 123456789, 'Place': 'Trichy'}\n",
      "{'_id': ObjectId('63666a984a2a0d48894b6417'), 'Name': 'Anbazhaagan', 'Phoneno': 123456789, 'Place': 'ayapakkam', 'lastModified': datetime.datetime(2022, 11, 5, 16, 17, 6, 16000)}\n",
      "{'_id': ObjectId('63668e504a2a0d48894b6419'), 'Name': 'Rakesh', 'Phoneno': 123456789, 'Place': 'Trichy'}\n",
      "{'_id': ObjectId('63668e504a2a0d48894b641a'), 'Name': 'Anbazhaagan', 'Phoneno': 123456789, 'Place': 'ayapakkam', 'lastModified': datetime.datetime(2022, 11, 5, 16, 24, 48, 678000)}\n"
     ]
    }
   ],
   "source": [
    "for record in data.find():\n",
    "    print(record)"
   ]
  },
  {
   "cell_type": "code",
   "execution_count": 108,
   "id": "8eb4d94c",
   "metadata": {},
   "outputs": [],
   "source": [
    "nq={'Phoneno':'123456789'}"
   ]
  },
  {
   "cell_type": "code",
   "execution_count": 111,
   "id": "cbb2167b",
   "metadata": {},
   "outputs": [
    {
     "data": {
      "text/plain": [
       "<pymongo.results.DeleteResult at 0x1bd0816bf40>"
      ]
     },
     "execution_count": 111,
     "metadata": {},
     "output_type": "execute_result"
    }
   ],
   "source": [
    "data.delete_one(nq)"
   ]
  },
  {
   "cell_type": "code",
   "execution_count": 113,
   "id": "09df8124",
   "metadata": {},
   "outputs": [
    {
     "data": {
      "text/plain": [
       "<pymongo.results.DeleteResult at 0x1bd07d59b10>"
      ]
     },
     "execution_count": 113,
     "metadata": {},
     "output_type": "execute_result"
    }
   ],
   "source": [
    "data.delete_one({'Name':'Rakesh'})"
   ]
  },
  {
   "cell_type": "code",
   "execution_count": null,
   "id": "913467c9",
   "metadata": {},
   "outputs": [],
   "source": []
  }
 ],
 "metadata": {
  "kernelspec": {
   "display_name": "Python 3 (ipykernel)",
   "language": "python",
   "name": "python3"
  },
  "language_info": {
   "codemirror_mode": {
    "name": "ipython",
    "version": 3
   },
   "file_extension": ".py",
   "mimetype": "text/x-python",
   "name": "python",
   "nbconvert_exporter": "python",
   "pygments_lexer": "ipython3",
   "version": "3.10.7"
  }
 },
 "nbformat": 4,
 "nbformat_minor": 5
}
